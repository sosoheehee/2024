{
  "nbformat": 4,
  "nbformat_minor": 0,
  "metadata": {
    "colab": {
      "provenance": [],
      "authorship_tag": "ABX9TyNjjuuNRjnOZivoIh0v2R8f",
      "include_colab_link": true
    },
    "kernelspec": {
      "name": "python3",
      "display_name": "Python 3"
    },
    "language_info": {
      "name": "python"
    }
  },
  "cells": [
    {
      "cell_type": "markdown",
      "metadata": {
        "id": "view-in-github",
        "colab_type": "text"
      },
      "source": [
        "<a href=\"https://colab.research.google.com/github/sosoheehee/2024/blob/main/obj_image.ipynb\" target=\"_parent\"><img src=\"https://colab.research.google.com/assets/colab-badge.svg\" alt=\"Open In Colab\"/></a>"
      ]
    },
    {
      "cell_type": "code",
      "execution_count": 2,
      "metadata": {
        "colab": {
          "base_uri": "https://localhost:8080/"
        },
        "id": "-BbfM3jaw2O1",
        "outputId": "9482709a-e8bf-4644-f0fb-fde1a9319ab8"
      },
      "outputs": [
        {
          "output_type": "stream",
          "name": "stdout",
          "text": [
            "(2.16810985877409+0j)\n",
            "(2.16810985877409+0j)\n"
          ]
        }
      ],
      "source": [
        "import numpy as np\n",
        "from scipy.spatial import distance\n",
        "\n",
        "k=2*np.pi*(10**9)/850\n",
        "obj=np.array([[0,2],[0,0],[0,-2]])\n",
        "image=np.array([[6.5,0.5],[6.5,-0.5]])\n",
        "\n",
        "distance_matrix=np.zeros((obj.shape[0],image.shape[0]))\n",
        "\n",
        "for i in range(0,obj.shape[0]):\n",
        "    for j in range(0,image.shape[0]):\n",
        "        distance_matrix[i,j]=distance.euclidean(obj[i], image[j])\n",
        "\n",
        "\n",
        "phase_matrix=k*distance_matrix\n",
        "exp_matrix=np.exp((1j)*phase_matrix)\n",
        "\n",
        "E_A=0\n",
        "E_B=0\n",
        "\n",
        "for i in range(0, exp_matrix.shape[0]):\n",
        "    E_A=E_A+exp_matrix[i,exp_matrix.shape[1]-2]\n",
        "\n",
        "    E_B=E_B+exp_matrix[i, exp_matrix.shape[1]-1]\n",
        "\n",
        "\n",
        "I_A=E_A*E_A.conjugate()/2\n",
        "I_B=E_B*E_B.conjugate()/2"
      ]
    }
  ]
}